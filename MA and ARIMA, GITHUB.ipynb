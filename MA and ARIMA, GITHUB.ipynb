{
 "cells": [
  {
   "cell_type": "markdown",
   "metadata": {},
   "source": [
    " # Predictiong Stock Market Prices"
   ]
  },
  {
   "cell_type": "markdown",
   "metadata": {},
   "source": [
    "## Methods Used:\n",
    "## 1. Moving Average(Mean)\n",
    "## 2. ARIMA\n",
    "## 3. LSTM\n",
    "## 4. IndRnn (New)\n",
    "## 5. Fine-Tuned IndRnn (New)\n",
    "# \n",
    "# \n",
    "\n",
    "\n",
    "\n",
    "\n"
   ]
  },
  {
   "cell_type": "markdown",
   "metadata": {},
   "source": [
    "## METHOD 1: MOVING AVERAGE\n",
    "## 1) Predicting Prices Using the Moving Average (MA) method"
   ]
  },
  {
   "cell_type": "markdown",
   "metadata": {},
   "source": [
    "### LOADING DATA of TATAMOTORS daily Stock market prices from 1996 to 2009 and normalizing it"
   ]
  },
  {
   "cell_type": "code",
   "execution_count": 1,
   "metadata": {},
   "outputs": [
    {
     "data": {
      "text/html": [
       "<div>\n",
       "<style scoped>\n",
       "    .dataframe tbody tr th:only-of-type {\n",
       "        vertical-align: middle;\n",
       "    }\n",
       "\n",
       "    .dataframe tbody tr th {\n",
       "        vertical-align: top;\n",
       "    }\n",
       "\n",
       "    .dataframe thead th {\n",
       "        text-align: right;\n",
       "    }\n",
       "</style>\n",
       "<table border=\"1\" class=\"dataframe\">\n",
       "  <thead>\n",
       "    <tr style=\"text-align: right;\">\n",
       "      <th></th>\n",
       "      <th>Date</th>\n",
       "      <th>Open</th>\n",
       "      <th>High</th>\n",
       "      <th>Low</th>\n",
       "      <th>Close</th>\n",
       "      <th>Adj Close</th>\n",
       "      <th>Volume</th>\n",
       "    </tr>\n",
       "  </thead>\n",
       "  <tbody>\n",
       "    <tr>\n",
       "      <th>0</th>\n",
       "      <td>1996-03-06</td>\n",
       "      <td>94.093002</td>\n",
       "      <td>94.859596</td>\n",
       "      <td>93.518097</td>\n",
       "      <td>93.709801</td>\n",
       "      <td>19.893383</td>\n",
       "      <td>122629.0</td>\n",
       "    </tr>\n",
       "    <tr>\n",
       "      <th>1</th>\n",
       "      <td>1996-03-07</td>\n",
       "      <td>94.380501</td>\n",
       "      <td>95.817802</td>\n",
       "      <td>93.901398</td>\n",
       "      <td>94.188904</td>\n",
       "      <td>19.995092</td>\n",
       "      <td>297961.0</td>\n",
       "    </tr>\n",
       "    <tr>\n",
       "      <th>2</th>\n",
       "      <td>1996-03-08</td>\n",
       "      <td>93.997200</td>\n",
       "      <td>95.721901</td>\n",
       "      <td>93.709801</td>\n",
       "      <td>95.626099</td>\n",
       "      <td>20.300190</td>\n",
       "      <td>389281.0</td>\n",
       "    </tr>\n",
       "    <tr>\n",
       "      <th>3</th>\n",
       "      <td>1996-03-09</td>\n",
       "      <td>96.200996</td>\n",
       "      <td>98.308998</td>\n",
       "      <td>96.200996</td>\n",
       "      <td>96.967598</td>\n",
       "      <td>20.584972</td>\n",
       "      <td>712811.0</td>\n",
       "    </tr>\n",
       "    <tr>\n",
       "      <th>4</th>\n",
       "      <td>1996-03-10</td>\n",
       "      <td>96.200996</td>\n",
       "      <td>100.609001</td>\n",
       "      <td>96.200996</td>\n",
       "      <td>100.033997</td>\n",
       "      <td>21.235926</td>\n",
       "      <td>870663.0</td>\n",
       "    </tr>\n",
       "  </tbody>\n",
       "</table>\n",
       "</div>"
      ],
      "text/plain": [
       "        Date       Open        High        Low       Close  Adj Close  \\\n",
       "0 1996-03-06  94.093002   94.859596  93.518097   93.709801  19.893383   \n",
       "1 1996-03-07  94.380501   95.817802  93.901398   94.188904  19.995092   \n",
       "2 1996-03-08  93.997200   95.721901  93.709801   95.626099  20.300190   \n",
       "3 1996-03-09  96.200996   98.308998  96.200996   96.967598  20.584972   \n",
       "4 1996-03-10  96.200996  100.609001  96.200996  100.033997  21.235926   \n",
       "\n",
       "     Volume  \n",
       "0  122629.0  \n",
       "1  297961.0  \n",
       "2  389281.0  \n",
       "3  712811.0  \n",
       "4  870663.0  "
      ]
     },
     "execution_count": 1,
     "metadata": {},
     "output_type": "execute_result"
    }
   ],
   "source": [
    "#import packages\n",
    "import pandas as pd\n",
    "import numpy as np\n",
    "\n",
    "#to plot within notebook\n",
    "import matplotlib.pyplot as plt\n",
    "%matplotlib inline\n",
    "\n",
    "#setting figure size\n",
    "from matplotlib.pylab import rcParams\n",
    "rcParams['figure.figsize'] = 20,10\n",
    "\n",
    "#for normalizing data\n",
    "from sklearn.preprocessing import MinMaxScaler\n",
    "scaler = MinMaxScaler(feature_range=(0, 1))\n",
    "\n",
    "#read the file\n",
    "df = pd.read_excel('TATAMOTORS.BO.xlsx')\n",
    "\n",
    "#print the head\n",
    "df.head()"
   ]
  },
  {
   "cell_type": "code",
   "execution_count": null,
   "metadata": {},
   "outputs": [],
   "source": []
  },
  {
   "cell_type": "code",
   "execution_count": null,
   "metadata": {},
   "outputs": [],
   "source": []
  },
  {
   "cell_type": "code",
   "execution_count": 2,
   "metadata": {},
   "outputs": [
    {
     "name": "stderr",
     "output_type": "stream",
     "text": [
      "C:\\Users\\1864012\\Miniconda3\\lib\\site-packages\\pandas\\plotting\\_matplotlib\\converter.py:103: FutureWarning: Using an implicitly registered datetime converter for a matplotlib plotting method. The converter was registered by pandas on import. Future versions of pandas will require you to explicitly register matplotlib converters.\n",
      "\n",
      "To register the converters:\n",
      "\t>>> from pandas.plotting import register_matplotlib_converters\n",
      "\t>>> register_matplotlib_converters()\n",
      "  warnings.warn(msg, FutureWarning)\n"
     ]
    },
    {
     "data": {
      "text/plain": [
       "[<matplotlib.lines.Line2D at 0x238dd1ad508>]"
      ]
     },
     "execution_count": 2,
     "metadata": {},
     "output_type": "execute_result"
    },
    {
     "data": {
      "image/png": "[encoded data removed]",
      "text/plain": [
       "<Figure size 1152x576 with 1 Axes>"
      ]
     },
     "metadata": {
      "needs_background": "light"
     },
     "output_type": "display_data"
    }
   ],
   "source": [
    "#setting index as date\n",
    "df['Date'] = pd.to_datetime(df.Date,format='%d-%m-%y')\n",
    "df.index = df['Date']\n",
    "df.fillna(method='ffill', inplace=True)\n",
    "#plot the data (close price)\n",
    "plt.figure(figsize=(16,8))\n",
    "plt.xlabel('Date', fontsize=25)\n",
    "plt.ylabel('Price in USD', fontsize=25)\n",
    "plt.xticks(fontsize=18)\n",
    "plt.yticks(fontsize=18)\n",
    "plt.plot(df['Close'], label='Close Price history')"
   ]
  },
  {
   "cell_type": "code",
   "execution_count": 3,
   "metadata": {},
   "outputs": [
    {
     "name": "stderr",
     "output_type": "stream",
     "text": [
      "Using TensorFlow backend.\n"
     ]
    }
   ],
   "source": [
    "#importing required libraries\n",
    "from sklearn.preprocessing import MinMaxScaler\n",
    "from keras.models import Sequential\n",
    "from keras.layers import Dense, Dropout, LSTM"
   ]
  },
  {
   "cell_type": "markdown",
   "metadata": {},
   "source": [
    "\n",
    "\n",
    "### Predicting the close price of the day using MA depending on the prices of the  previous 10 days "
   ]
  },
  {
   "cell_type": "code",
   "execution_count": 3,
   "metadata": {},
   "outputs": [
    {
     "ename": "NameError",
     "evalue": "name 'np' is not defined",
     "output_type": "error",
     "traceback": [
      "\u001b[1;31m---------------------------------------------------------------------------\u001b[0m",
      "\u001b[1;31mNameError\u001b[0m                                 Traceback (most recent call last)",
      "\u001b[1;32m<ipython-input-3-344d62d98a6a>\u001b[0m in \u001b[0;36m<module>\u001b[1;34m\u001b[0m\n\u001b[1;32m----> 1\u001b[1;33m \u001b[0mdf\u001b[0m\u001b[1;33m[\u001b[0m\u001b[1;34m'10_days_MA'\u001b[0m\u001b[1;33m]\u001b[0m \u001b[1;33m=\u001b[0m \u001b[0mnp\u001b[0m\u001b[1;33m.\u001b[0m\u001b[0mNaN\u001b[0m\u001b[1;33m\u001b[0m\u001b[1;33m\u001b[0m\u001b[0m\n\u001b[0m\u001b[0;32m      2\u001b[0m \u001b[1;32mdef\u001b[0m \u001b[0mmake_window\u001b[0m\u001b[1;33m(\u001b[0m\u001b[0mwindow_size\u001b[0m\u001b[1;33m,\u001b[0m \u001b[0mstart_point\u001b[0m\u001b[1;33m)\u001b[0m\u001b[1;33m:\u001b[0m\u001b[1;33m\u001b[0m\u001b[1;33m\u001b[0m\u001b[0m\n\u001b[0;32m      3\u001b[0m     \u001b[1;32mreturn\u001b[0m \u001b[1;33m[\u001b[0m\u001b[0mstart_point\u001b[0m\u001b[1;33m+\u001b[0m\u001b[0mx\u001b[0m \u001b[1;32mfor\u001b[0m \u001b[0mx\u001b[0m \u001b[1;32min\u001b[0m \u001b[0mrange\u001b[0m\u001b[1;33m(\u001b[0m\u001b[0mwindow_size\u001b[0m\u001b[1;33m)\u001b[0m\u001b[1;33m]\u001b[0m\u001b[1;33m\u001b[0m\u001b[1;33m\u001b[0m\u001b[0m\n\u001b[0;32m      4\u001b[0m \u001b[0mwindow_size\u001b[0m \u001b[1;33m=\u001b[0m \u001b[1;36m10\u001b[0m\u001b[1;33m\u001b[0m\u001b[1;33m\u001b[0m\u001b[0m\n\u001b[0;32m      5\u001b[0m \u001b[0mforward_days\u001b[0m \u001b[1;33m=\u001b[0m \u001b[1;36m10\u001b[0m \u001b[1;31m# > 1, ou seja, 2,3,4,5,...\u001b[0m\u001b[1;33m\u001b[0m\u001b[1;33m\u001b[0m\u001b[0m\n",
      "\u001b[1;31mNameError\u001b[0m: name 'np' is not defined"
     ]
    }
   ],
   "source": [
    "df['10_days_MA'] = np.NaN\n",
    "def make_window(window_size, start_point):\n",
    "    return [start_point+x for x in range(window_size)]\n",
    "window_size = 10\n",
    "forward_days = 10 # > 1, ou seja, 2,3,4,5,...\n",
    "for index in range(window_size, len(df), forward_days): #Range(Start, Stop, Step)\n",
    "    for i in range(0,forward_days):#Range(Start, Stop)\n",
    "        if index+i >= len(df):\n",
    "            break\n",
    "        window_close = make_window(window_size-i, index+i-window_size)\n",
    "        #print(window_close)\n",
    "        window_MA = make_window(i, index)\n",
    "        #print(window_MA)\n",
    "        mean = pd.concat([ df['Close'].iloc[window_close], df['10_days_MA'].iloc[window_MA] ]).mean(axis=0)\n",
    "        df.iat[index+i, df.columns.get_loc('10_days_MA')] = mean\n",
    "\n",
    "        \n",
    "print(\"MSE for MA\")\n",
    "print((np.mean((df['Close']-df['10_days_MA'])**2)))"
   ]
  },
  {
   "cell_type": "code",
   "execution_count": 23,
   "metadata": {},
   "outputs": [
    {
     "name": "stdout",
     "output_type": "stream",
     "text": [
      "MSE for MA\n",
      "108.76022415260806\n"
     ]
    }
   ],
   "source": []
  },
  {
   "cell_type": "markdown",
   "metadata": {},
   "source": [
    "### MSE of Moving Average was 108\n",
    "\n",
    "\n"
   ]
  },
  {
   "cell_type": "markdown",
   "metadata": {},
   "source": [
    "\n",
    "\n",
    "### Draw Pridected prices in red and the real prices in blue"
   ]
  },
  {
   "cell_type": "code",
   "execution_count": 6,
   "metadata": {},
   "outputs": [
    {
     "ename": "NameError",
     "evalue": "name 'plt' is not defined",
     "output_type": "error",
     "traceback": [
      "\u001b[1;31m---------------------------------------------------------------------------\u001b[0m",
      "\u001b[1;31mNameError\u001b[0m                                 Traceback (most recent call last)",
      "\u001b[1;32m<ipython-input-6-87bc4e5bb110>\u001b[0m in \u001b[0;36m<module>\u001b[1;34m\u001b[0m\n\u001b[0;32m      1\u001b[0m \u001b[0mlimit\u001b[0m\u001b[1;33m=\u001b[0m\u001b[1;36m300\u001b[0m\u001b[1;33m\u001b[0m\u001b[1;33m\u001b[0m\u001b[0m\n\u001b[1;32m----> 2\u001b[1;33m \u001b[0mplt\u001b[0m\u001b[1;33m.\u001b[0m\u001b[0mfigure\u001b[0m\u001b[1;33m(\u001b[0m\u001b[0mfigsize\u001b[0m \u001b[1;33m=\u001b[0m \u001b[1;33m(\u001b[0m\u001b[1;36m15\u001b[0m\u001b[1;33m,\u001b[0m\u001b[1;36m10\u001b[0m\u001b[1;33m)\u001b[0m\u001b[1;33m)\u001b[0m\u001b[1;33m\u001b[0m\u001b[1;33m\u001b[0m\u001b[0m\n\u001b[0m\u001b[0;32m      3\u001b[0m \u001b[1;33m\u001b[0m\u001b[0m\n\u001b[0;32m      4\u001b[0m \u001b[0msize\u001b[0m \u001b[1;33m=\u001b[0m \u001b[0mlen\u001b[0m\u001b[1;33m(\u001b[0m\u001b[0mdf\u001b[0m\u001b[1;33m)\u001b[0m\u001b[1;33m-\u001b[0m\u001b[0mlimit\u001b[0m \u001b[1;33m-\u001b[0m \u001b[1;33m(\u001b[0m\u001b[0mlen\u001b[0m\u001b[1;33m(\u001b[0m\u001b[0mdf\u001b[0m\u001b[1;33m)\u001b[0m\u001b[1;33m-\u001b[0m\u001b[0mlimit\u001b[0m\u001b[1;33m)\u001b[0m\u001b[1;33m%\u001b[0m\u001b[0mforward_days\u001b[0m\u001b[1;33m\u001b[0m\u001b[1;33m\u001b[0m\u001b[0m\n\u001b[0;32m      5\u001b[0m \u001b[1;33m\u001b[0m\u001b[0m\n",
      "\u001b[1;31mNameError\u001b[0m: name 'plt' is not defined"
     ]
    }
   ],
   "source": [
    "limit=300\n",
    "plt.figure(figsize = (15,10))\n",
    "\n",
    "size = len(df)-limit - (len(df)-limit)%forward_days\n",
    "\n",
    "plt.plot(df['10_days_MA'][-limit:], color='r', label='Predicted Price')\n",
    "plt.xlabel('Date', fontsize=25)\n",
    "plt.ylabel('Price in USD', fontsize=25)\n",
    "plt.xticks(fontsize=16)\n",
    "plt.yticks(fontsize=16)\n",
    "\n",
    "plt.plot(df['Close'][-limit:], color='b', label='Real Price')\n",
    "plt.legend(loc='best')\n",
    "plt.show()"
   ]
  },
  {
   "cell_type": "markdown",
   "metadata": {},
   "source": []
  },
  {
   "cell_type": "markdown",
   "metadata": {},
   "source": [
    "# \n",
    "# \n",
    "# \n",
    "# \n",
    "# \n",
    "# \n"
   ]
  },
  {
   "cell_type": "markdown",
   "metadata": {},
   "source": [
    "# 2) Predicting using ARIMA"
   ]
  },
  {
   "cell_type": "markdown",
   "metadata": {},
   "source": [
    "### ARIMA is an acronym that stands for 'Auto Regressive Integrated Moving Average'. It is a class of model that captures a suite of different standard temporal structures in time series data.\n"
   ]
  },
  {
   "cell_type": "code",
   "execution_count": 7,
   "metadata": {},
   "outputs": [],
   "source": []
  },
  {
   "cell_type": "markdown",
   "metadata": {},
   "source": [
    "## Load Data"
   ]
  },
  {
   "cell_type": "code",
   "execution_count": 89,
   "metadata": {},
   "outputs": [
    {
     "data": {
      "text/html": [
       "<div>\n",
       "<style scoped>\n",
       "    .dataframe tbody tr th:only-of-type {\n",
       "        vertical-align: middle;\n",
       "    }\n",
       "\n",
       "    .dataframe tbody tr th {\n",
       "        vertical-align: top;\n",
       "    }\n",
       "\n",
       "    .dataframe thead th {\n",
       "        text-align: right;\n",
       "    }\n",
       "</style>\n",
       "<table border=\"1\" class=\"dataframe\">\n",
       "  <thead>\n",
       "    <tr style=\"text-align: right;\">\n",
       "      <th></th>\n",
       "      <th>Date</th>\n",
       "      <th>Open</th>\n",
       "      <th>High</th>\n",
       "      <th>Low</th>\n",
       "      <th>Close</th>\n",
       "      <th>Adj Close</th>\n",
       "      <th>Volume</th>\n",
       "    </tr>\n",
       "  </thead>\n",
       "  <tbody>\n",
       "    <tr>\n",
       "      <th>0</th>\n",
       "      <td>1996-03-06</td>\n",
       "      <td>94.093002</td>\n",
       "      <td>94.859596</td>\n",
       "      <td>93.518097</td>\n",
       "      <td>93.709801</td>\n",
       "      <td>19.893383</td>\n",
       "      <td>122629.0</td>\n",
       "    </tr>\n",
       "    <tr>\n",
       "      <th>1</th>\n",
       "      <td>1996-03-07</td>\n",
       "      <td>94.380501</td>\n",
       "      <td>95.817802</td>\n",
       "      <td>93.901398</td>\n",
       "      <td>94.188904</td>\n",
       "      <td>19.995092</td>\n",
       "      <td>297961.0</td>\n",
       "    </tr>\n",
       "    <tr>\n",
       "      <th>2</th>\n",
       "      <td>1996-03-08</td>\n",
       "      <td>93.997200</td>\n",
       "      <td>95.721901</td>\n",
       "      <td>93.709801</td>\n",
       "      <td>95.626099</td>\n",
       "      <td>20.300190</td>\n",
       "      <td>389281.0</td>\n",
       "    </tr>\n",
       "    <tr>\n",
       "      <th>3</th>\n",
       "      <td>1996-03-09</td>\n",
       "      <td>96.200996</td>\n",
       "      <td>98.308998</td>\n",
       "      <td>96.200996</td>\n",
       "      <td>96.967598</td>\n",
       "      <td>20.584972</td>\n",
       "      <td>712811.0</td>\n",
       "    </tr>\n",
       "    <tr>\n",
       "      <th>4</th>\n",
       "      <td>1996-03-10</td>\n",
       "      <td>96.200996</td>\n",
       "      <td>100.609001</td>\n",
       "      <td>96.200996</td>\n",
       "      <td>100.033997</td>\n",
       "      <td>21.235926</td>\n",
       "      <td>870663.0</td>\n",
       "    </tr>\n",
       "  </tbody>\n",
       "</table>\n",
       "</div>"
      ],
      "text/plain": [
       "        Date       Open        High        Low       Close  Adj Close  \\\n",
       "0 1996-03-06  94.093002   94.859596  93.518097   93.709801  19.893383   \n",
       "1 1996-03-07  94.380501   95.817802  93.901398   94.188904  19.995092   \n",
       "2 1996-03-08  93.997200   95.721901  93.709801   95.626099  20.300190   \n",
       "3 1996-03-09  96.200996   98.308998  96.200996   96.967598  20.584972   \n",
       "4 1996-03-10  96.200996  100.609001  96.200996  100.033997  21.235926   \n",
       "\n",
       "     Volume  \n",
       "0  122629.0  \n",
       "1  297961.0  \n",
       "2  389281.0  \n",
       "3  712811.0  \n",
       "4  870663.0  "
      ]
     },
     "execution_count": 89,
     "metadata": {},
     "output_type": "execute_result"
    }
   ],
   "source": [
    "#import packages\n",
    "import pandas as pd\n",
    "import numpy as np\n",
    "\n",
    "#to plot within notebook\n",
    "import matplotlib.pyplot as plt\n",
    "%matplotlib inline\n",
    "\n",
    "#setting figure size\n",
    "from matplotlib.pylab import rcParams\n",
    "\n",
    "df = pd.read_excel('TATAMOTORS.BO.xlsx')\n",
    "\n",
    "#set date as index\n",
    "df['Date'] = pd.to_datetime(df['Date'])\n",
    "#df.set_index('Date', inplace=True)\n",
    "#keep only the 'Close' column\n",
    "df.fillna(method='ffill', inplace=True)\n",
    "#df = df['Close']\n",
    "df.head()\n"
   ]
  },
  {
   "cell_type": "code",
   "execution_count": null,
   "metadata": {},
   "outputs": [],
   "source": []
  },
  {
   "cell_type": "markdown",
   "metadata": {},
   "source": [
    "### Predict with the configurations ARIMA (1,0,0)"
   ]
  },
  {
   "cell_type": "code",
   "execution_count": 90,
   "metadata": {},
   "outputs": [
    {
     "name": "stdout",
     "output_type": "stream",
     "text": [
      "<class 'list'>\n",
      "MSE Mean Squared Error for ARIMA: 55.326\n",
      "Symmetric mean absolute percentage error: 1.735\n"
     ]
    },
    {
     "data": {
      "text/plain": [
       "31.105198001637234"
      ]
     },
     "execution_count": 90,
     "metadata": {},
     "output_type": "execute_result"
    }
   ],
   "source": [
    "from statsmodels.tsa.arima_model import ARIMA\n",
    "from sklearn.metrics import mean_squared_error\n",
    "\n",
    "import warnings\n",
    "warnings.filterwarnings('ignore')\n",
    "\n",
    "def predict(coef, history):\n",
    "    yhat = 0.0\n",
    "    for i in range(1, len(coef)+1):\n",
    "            yhat += coef[i-1] * history[-i]\n",
    "    return yhat\n",
    "\n",
    "def smape_kun(y_true, y_pred):\n",
    "    return np.mean((np.abs(y_pred - y_true) * 200/ (np.abs(y_pred) +       np.abs(y_true))))\n",
    "\n",
    "\n",
    "train_data, test_data = df[0:int(len(df)*0.8)], df[int(len(df)*0.8):]\n",
    "\n",
    "train_ar = train_data['Close'].values\n",
    "test_ar = test_data['Close'].values\n",
    "history = [x for x in train_ar]\n",
    "print(type(history))\n",
    "predictions = list()\n",
    "for t in range(len(test_ar)):\n",
    "    modelarima = ARIMA(history, order=(1,0,0))\n",
    "    modelarima_fit = modelarima.fit(trend='nc', disp=False)\n",
    "    ar_coef = modelarima_fit.arparams\n",
    "    yhat = predict(ar_coef, history)\n",
    "    predictions.append(yhat)\n",
    "    obs = test_ar[t]\n",
    "    history.append(obs)\n",
    "error = mean_squared_error(test_ar, predictions)\n",
    "print('MSE Mean Squared Error for ARIMA: %.3f' % error)\n",
    "error2 = smape_kun(test_ar, predictions)\n",
    "print('Symmetric mean absolute percentage error: %.3f' % error2)\n",
    "\n",
    "dff=test_ar-predictions\n",
    "dff.max()"
   ]
  },
  {
   "cell_type": "markdown",
   "metadata": {},
   "source": [
    "### MSE of ARIMA was 55"
   ]
  },
  {
   "cell_type": "code",
   "execution_count": null,
   "metadata": {},
   "outputs": [],
   "source": []
  },
  {
   "cell_type": "markdown",
   "metadata": {},
   "source": [
    "## "
   ]
  },
  {
   "cell_type": "code",
   "execution_count": null,
   "metadata": {},
   "outputs": [],
   "source": []
  },
  {
   "cell_type": "markdown",
   "metadata": {},
   "source": []
  },
  {
   "cell_type": "code",
   "execution_count": null,
   "metadata": {},
   "outputs": [],
   "source": []
  },
  {
   "cell_type": "code",
   "execution_count": null,
   "metadata": {},
   "outputs": [],
   "source": []
  }
 ],
 "metadata": {
  "kernelspec": {
   "display_name": "Python 3",
   "language": "python",
   "name": "python3"
  },
  "language_info": {
   "codemirror_mode": {
    "name": "ipython",
    "version": 3
   },
   "file_extension": ".py",
   "mimetype": "text/x-python",
   "name": "python",
   "nbconvert_exporter": "python",
   "pygments_lexer": "ipython3",
   "version": "3.7.4"
  }
 },
 "nbformat": 4,
 "nbformat_minor": 2
}
