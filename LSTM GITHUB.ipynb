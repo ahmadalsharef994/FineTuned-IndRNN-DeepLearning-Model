{
 "cells": [
  {
   "cell_type": "markdown",
   "metadata": {},
   "source": [
    "# STOCK MARKET -  LSTM\n"
   ]
  },
  {
   "cell_type": "markdown",
   "metadata": {},
   "source": [
    "### Problem Description\n",
    "The problem we are going to look at in this post is the stock market prices prediction problem.\n",
    "\n",
    "This is a problem where, given a day, month, and a year, the task is to predict the price of next days stocks . The data ranges from 1996 to 2010,  with 4800 observations."
   ]
  },
  {
   "cell_type": "markdown",
   "metadata": {},
   "source": [
    "** Name of the Dataset **  “TATAMOTORS.xlsx'“"
   ]
  },
  {
   "cell_type": "markdown",
   "metadata": {},
   "source": []
  },
  {
   "cell_type": "code",
   "execution_count": 28,
   "metadata": {},
   "outputs": [],
   "source": [
    "import numpy\n",
    "import pandas\n",
    "import math\n",
    "\n",
    "import matplotlib.pyplot as plt\n",
    "%matplotlib inline\n",
    "from sklearn.preprocessing import MinMaxScaler\n",
    "from sklearn.metrics import mean_squared_error\n",
    "from keras.models import Sequential\n",
    "from keras.layers import Dense\n",
    "from keras.layers import LSTM\n",
    "\n",
    "import os\n",
    "\n",
    "\n",
    "from keras.callbacks import ModelCheckpoint"
   ]
  },
  {
   "cell_type": "code",
   "execution_count": 31,
   "metadata": {},
   "outputs": [
    {
     "data": {
      "text/html": [
       "<div>\n",
       "<style scoped>\n",
       "    .dataframe tbody tr th:only-of-type {\n",
       "        vertical-align: middle;\n",
       "    }\n",
       "\n",
       "    .dataframe tbody tr th {\n",
       "        vertical-align: top;\n",
       "    }\n",
       "\n",
       "    .dataframe thead th {\n",
       "        text-align: right;\n",
       "    }\n",
       "</style>\n",
       "<table border=\"1\" class=\"dataframe\">\n",
       "  <thead>\n",
       "    <tr style=\"text-align: right;\">\n",
       "      <th></th>\n",
       "      <th>Date</th>\n",
       "      <th>Close</th>\n",
       "    </tr>\n",
       "  </thead>\n",
       "  <tbody>\n",
       "    <tr>\n",
       "      <th>0</th>\n",
       "      <td>1996-03-06</td>\n",
       "      <td>93.709801</td>\n",
       "    </tr>\n",
       "    <tr>\n",
       "      <th>1</th>\n",
       "      <td>1996-03-07</td>\n",
       "      <td>94.188904</td>\n",
       "    </tr>\n",
       "    <tr>\n",
       "      <th>2</th>\n",
       "      <td>1996-03-08</td>\n",
       "      <td>95.626099</td>\n",
       "    </tr>\n",
       "    <tr>\n",
       "      <th>3</th>\n",
       "      <td>1996-03-09</td>\n",
       "      <td>96.967598</td>\n",
       "    </tr>\n",
       "    <tr>\n",
       "      <th>4</th>\n",
       "      <td>1996-03-10</td>\n",
       "      <td>100.033997</td>\n",
       "    </tr>\n",
       "  </tbody>\n",
       "</table>\n",
       "</div>"
      ],
      "text/plain": [
       "        Date       Close\n",
       "0 1996-03-06   93.709801\n",
       "1 1996-03-07   94.188904\n",
       "2 1996-03-08   95.626099\n",
       "3 1996-03-09   96.967598\n",
       "4 1996-03-10  100.033997"
      ]
     },
     "execution_count": 31,
     "metadata": {},
     "output_type": "execute_result"
    }
   ],
   "source": [
    "dataset = pandas.read_excel('TATAMOTORS.xlsx', usecols=[0,4], skipfooter=3)\n",
    "dataset.fillna(method='ffill', inplace=True)\n",
    "\n",
    "\n",
    "plt.plot(dataset['Close'])\n",
    "plt.show()"
   ]
  },
  {
   "cell_type": "code",
   "execution_count": 32,
   "metadata": {},
   "outputs": [
    {
     "data": {
      "image/png": "[encoded data removed]",
      "text/plain": [
       "<Figure size 432x288 with 1 Axes>"
      ]
     },
     "metadata": {
      "needs_background": "light"
     },
     "output_type": "display_data"
    }
   ],
   "source": []
  },
  {
   "cell_type": "markdown",
   "metadata": {},
   "source": [
    "***The Long Short-Term Memory network, or LSTM network, is a recurrent neural network that is trained using Backpropagation Through Time and overcomes the vanishing gradient problem.***"
   ]
  },
  {
   "cell_type": "markdown",
   "metadata": {},
   "source": [
    "There are three types of gates within a unit:\n",
    "- **Forget Gate**: conditionally decides what information to throw away from the block.\n",
    "- **Input Gate**: conditionally decides which values from the input to update the memory state.\n",
    "- **Output Gate**: conditionally decides what to output based on input and the memory of the block."
   ]
  },
  {
   "cell_type": "markdown",
   "metadata": {},
   "source": [
    "### Predict next 10 days(forward_days) depending on the previous 40 days (look_back) using LSTM Neural Networks"
   ]
  },
  {
   "cell_type": "markdown",
   "metadata": {},
   "source": [
    "Before we do anything, it is a good idea to fix the random number seed to ensure our results are reproducible"
   ]
  },
  {
   "cell_type": "markdown",
   "metadata": {},
   "source": [
    "We can load this dataset easily using the Pandas library. <br>\n",
    "We are not interested in the date, open price ... etc\n",
    "given that each observation is separated by the same interval of one day. <br>\n",
    "Therefore, when we load the dataset **we can exclude the other columns and keep only the close price**."
   ]
  },
  {
   "cell_type": "code",
   "execution_count": 34,
   "metadata": {},
   "outputs": [
    {
     "data": {
      "text/html": [
       "<div>\n",
       "<style scoped>\n",
       "    .dataframe tbody tr th:only-of-type {\n",
       "        vertical-align: middle;\n",
       "    }\n",
       "\n",
       "    .dataframe tbody tr th {\n",
       "        vertical-align: top;\n",
       "    }\n",
       "\n",
       "    .dataframe thead th {\n",
       "        text-align: right;\n",
       "    }\n",
       "</style>\n",
       "<table border=\"1\" class=\"dataframe\">\n",
       "  <thead>\n",
       "    <tr style=\"text-align: right;\">\n",
       "      <th></th>\n",
       "      <th>Close</th>\n",
       "    </tr>\n",
       "  </thead>\n",
       "  <tbody>\n",
       "    <tr>\n",
       "      <th>0</th>\n",
       "      <td>93.709801</td>\n",
       "    </tr>\n",
       "    <tr>\n",
       "      <th>1</th>\n",
       "      <td>94.188904</td>\n",
       "    </tr>\n",
       "    <tr>\n",
       "      <th>2</th>\n",
       "      <td>95.626099</td>\n",
       "    </tr>\n",
       "    <tr>\n",
       "      <th>3</th>\n",
       "      <td>96.967598</td>\n",
       "    </tr>\n",
       "    <tr>\n",
       "      <th>4</th>\n",
       "      <td>100.033997</td>\n",
       "    </tr>\n",
       "  </tbody>\n",
       "</table>\n",
       "</div>"
      ],
      "text/plain": [
       "        Close\n",
       "0   93.709801\n",
       "1   94.188904\n",
       "2   95.626099\n",
       "3   96.967598\n",
       "4  100.033997"
      ]
     },
     "execution_count": 34,
     "metadata": {},
     "output_type": "execute_result"
    }
   ],
   "source": [
    "# fix random seed for reproducibility\n",
    "numpy.random.seed(7)\n",
    "# load the dataset sales-of-soaps.csv\n",
    "dataframe = pandas.read_excel('TATAMOTORS.xlsx', usecols=[4])\n",
    "#dataframe = pandas.read_csv('international-airline-passengers.csv', usecols=[1], engine='python')\n",
    "dataframe.fillna(method='ffill', inplace=True)\n",
    "\n",
    "dataframe.head()\n",
    "#print(type(dataframe.dtypes))"
   ]
  },
  {
   "cell_type": "markdown",
   "metadata": {},
   "source": [
    "- ** extract the NumPy array from the dataframe** <br>\n",
    "- Then **convert the integer values to floating point values**, which are more suitable for modeling with a neural network."
   ]
  },
  {
   "cell_type": "code",
   "execution_count": 35,
   "metadata": {},
   "outputs": [],
   "source": [
    "dataset = dataframe.values      ##   convert the data-frame to its Numpy-array\n",
    "dataset = dataset.astype('float32')\n",
    "# normalize the dataset\n",
    "scaler = MinMaxScaler(feature_range=(0, 1))\n",
    "dataset = scaler.fit_transform(dataset)"
   ]
  },
  {
   "cell_type": "markdown",
   "metadata": {},
   "source": [
    "### Important:\n",
    "**LSTMs** are sensitive to the scale of the input data, specifically when the ***sigmoid (default)*** or ***tanh*** activation functions are used. <br>\n",
    "It can be a good practice to rescale the data to the range of 0-to-1, also called ** normalizing**.<br>\n",
    "We can easily normalize the dataset using the MinMaxScaler preprocessing class from the scikit-learn library."
   ]
  },
  {
   "cell_type": "code",
   "execution_count": 36,
   "metadata": {},
   "outputs": [],
   "source": []
  },
  {
   "cell_type": "markdown",
   "metadata": {},
   "source": [
    "Doing a Train-Test Split<br>\n",
    "Train: 67%<br>\n",
    "Test:  33%"
   ]
  },
  {
   "cell_type": "code",
   "execution_count": 37,
   "metadata": {},
   "outputs": [
    {
     "name": "stdout",
     "output_type": "stream",
     "text": [
      "3240 1596\n"
     ]
    }
   ],
   "source": [
    "# split into train and test sets\n",
    "train_size = int(len(dataset) * 0.67)\n",
    "test_size = len(dataset) - train_size\n",
    "\n",
    "train, test = dataset[0:train_size,:], dataset[train_size:len(dataset),:]\n",
    "print(len(train), len(test))"
   ]
  },
  {
   "cell_type": "markdown",
   "metadata": {},
   "source": [
    "#### Cross Validation\n",
    "\n",
    "##### When using time series data, the sequence of values is important. <br>\n",
    "\n",
    "Now we can define a function to create a new dataset.\n",
    "\n",
    "The function takes two arguments: the ***dataset***, which is a NumPy array that we want to convert into a dataset, and the ***look_back***, which is the number of previous time steps to use as input variables to predict the next time period — in this case defaulted to 40.\n",
    "\n",
    "This default will create a dataset where X is the  price of stocks last 40 days and Y is the price at the next 10 days.\n",
    "\n",
    "It can be configured, and we will be constructing a differently shaped dataset in the next section."
   ]
  },
  {
   "cell_type": "code",
   "execution_count": 38,
   "metadata": {},
   "outputs": [],
   "source": [
    "forward_days = 10\n",
    "# convert an array of values into a dataset matrix\n",
    "def create_dataset(dataset, look_back=40):\n",
    "\tdataX, dataY = [], []\n",
    "\tfor i in range(len(dataset)-look_back-forward_days+1):\n",
    "\t\ta = dataset[i:(i+look_back), 0]\n",
    "\t\tdataX.append(a)\n",
    "\t\tdataY.append(dataset[i + look_back, 0])\n",
    "\treturn numpy.array(dataX), numpy.array(dataY)"
   ]
  },
  {
   "cell_type": "markdown",
   "metadata": {},
   "source": [
    "\n",
    "Let’s use this function to prepare the train and test datasets for modeling."
   ]
  },
  {
   "cell_type": "code",
   "execution_count": 39,
   "metadata": {},
   "outputs": [],
   "source": [
    "# reshape into X=t and Y=t+1\n",
    "look_back = 40\n",
    "\n",
    "trainX, trainY = create_dataset(train, look_back)\n",
    "testX, testY = create_dataset(test, look_back)"
   ]
  },
  {
   "cell_type": "code",
   "execution_count": 40,
   "metadata": {},
   "outputs": [
    {
     "data": {
      "text/plain": [
       "(3191, 40)"
      ]
     },
     "execution_count": 40,
     "metadata": {},
     "output_type": "execute_result"
    }
   ],
   "source": [
    "trainX.shape"
   ]
  },
  {
   "cell_type": "code",
   "execution_count": 41,
   "metadata": {},
   "outputs": [],
   "source": [
    "# reshape input to be [samples, time steps, features]\n",
    "\n",
    "trainX = numpy.reshape(trainX, (trainX.shape[0], trainX.shape[1], 1))\n",
    "testX = numpy.reshape(testX, (testX.shape[0], testX.shape[1], 1))"
   ]
  },
  {
   "cell_type": "code",
   "execution_count": 42,
   "metadata": {},
   "outputs": [
    {
     "data": {
      "text/plain": [
       "(3191, 40, 1)"
      ]
     },
     "execution_count": 42,
     "metadata": {},
     "output_type": "execute_result"
    }
   ],
   "source": [
    "trainX.shape"
   ]
  },
  {
   "cell_type": "markdown",
   "metadata": {},
   "source": [
    "We are now ready to design and fit our LSTM network for this problem.\n",
    "\n",
    "The network has :<br>\n",
    "- a visible layer with 1 input<br>\n",
    "- a hidden layer with 4 LSTM blocks or neurons<br>\n",
    "- an output layer that makes a single value prediction. <br>\n",
    "\n",
    "The default sigmoid activation function is used for the LSTM blocks. <br>\n",
    "The network is trained for 40 epochs and a batch size of 40 is used."
   ]
  },
  {
   "cell_type": "code",
   "execution_count": 16,
   "metadata": {},
   "outputs": [],
   "source": [
    "# create the LSTM network\n",
    "model = Sequential()\n",
    "model.add(LSTM(8, input_shape=(look_back, 1), return_sequences=True))\n",
    "model.add(LSTM(8, return_sequences=True))\n",
    "model.add(LSTM(8))\n",
    "model.add(Dense(1))\n",
    "from keras import optimizers\n",
    "adam = optimizers. Adam(lr=0.001, decay=1e-6)\n",
    "\n",
    "model.compile(loss='mean_squared_error', optimizer=adam, metrics=['accuracy'])"
   ]
  },
  {
   "cell_type": "code",
   "execution_count": 43,
   "metadata": {},
   "outputs": [
    {
     "name": "stdout",
     "output_type": "stream",
     "text": [
      "Model: \"sequential_1\"\n",
      "_________________________________________________________________\n",
      "Layer (type)                 Output Shape              Param #   \n",
      "=================================================================\n",
      "lstm_1 (LSTM)                (None, 40, 8)             320       \n",
      "_________________________________________________________________\n",
      "lstm_2 (LSTM)                (None, 40, 8)             544       \n",
      "_________________________________________________________________\n",
      "lstm_3 (LSTM)                (None, 8)                 544       \n",
      "_________________________________________________________________\n",
      "dense_1 (Dense)              (None, 1)                 9         \n",
      "=================================================================\n",
      "Total params: 1,417\n",
      "Trainable params: 1,417\n",
      "Non-trainable params: 0\n",
      "_________________________________________________________________\n"
     ]
    }
   ],
   "source": [
    "model.summary()"
   ]
  },
  {
   "cell_type": "code",
   "execution_count": 44,
   "metadata": {},
   "outputs": [
    {
     "name": "stdout",
     "output_type": "stream",
     "text": [
      "Populating the interactive namespace from numpy and matplotlib\n"
     ]
    },
    {
     "name": "stderr",
     "output_type": "stream",
     "text": [
      "C:\\Users\\1864012\\Miniconda3\\lib\\site-packages\\IPython\\core\\magics\\pylab.py:160: UserWarning: pylab import has clobbered these variables: ['random', 'test']\n",
      "`%matplotlib` prevents importing * from pylab and numpy\n",
      "  \"\\n`%matplotlib` prevents importing * from pylab and numpy\"\n"
     ]
    },
    {
     "data": {
      "image/png": "[encoded data removed]",
      "text/plain": [
       "<Figure size 432x288 with 1 Axes>"
      ]
     },
     "metadata": {
      "needs_background": "light"
     },
     "output_type": "display_data"
    },
    {
     "data": {
      "image/png": "[encoded data removed]",
      "text/plain": [
       "<IPython.core.display.Image object>"
      ]
     },
     "execution_count": 44,
     "metadata": {},
     "output_type": "execute_result"
    }
   ],
   "source": [
    "\n",
    "#!pip install GraphViz \n",
    "import os\n",
    "os.environ[\"PATH\"] += os.pathsep + 'C:/ProgramData/Anaconda3/Library/bin/graphviz/'\n",
    "from keras.utils.vis_utils import plot_model\n",
    "plot_model(model, to_file='LSTM_model_plot2.png', show_shapes=True, show_layer_names=True)"
   ]
  },
  {
   "cell_type": "code",
   "execution_count": 45,
   "metadata": {},
   "outputs": [
    {
     "name": "stdout",
     "output_type": "stream",
     "text": [
      "Epoch 1/50\n",
      " - 3s - loss: 4.1005e-05 - accuracy: 3.1338e-04\n",
      "Epoch 2/50\n",
      " - 2s - loss: 3.8205e-05 - accuracy: 3.1338e-04\n",
      "Epoch 3/50\n",
      " - 2s - loss: 3.8263e-05 - accuracy: 3.1338e-04\n",
      "Epoch 4/50\n",
      " - 3s - loss: 3.6387e-05 - accuracy: 3.1338e-04\n",
      "Epoch 5/50\n",
      " - 3s - loss: 3.7249e-05 - accuracy: 3.1338e-04\n",
      "Epoch 6/50\n",
      " - 3s - loss: 3.5613e-05 - accuracy: 3.1338e-04\n",
      "Epoch 7/50\n",
      " - 3s - loss: 3.6890e-05 - accuracy: 3.1338e-04\n",
      "Epoch 8/50\n",
      " - 3s - loss: 3.4316e-05 - accuracy: 3.1338e-04\n",
      "Epoch 9/50\n",
      " - 3s - loss: 3.3469e-05 - accuracy: 3.1338e-04\n",
      "Epoch 10/50\n",
      " - 3s - loss: 3.1344e-05 - accuracy: 3.1338e-04\n",
      "Epoch 11/50\n",
      " - 3s - loss: 3.5831e-05 - accuracy: 3.1338e-04\n",
      "Epoch 12/50\n",
      " - 3s - loss: 3.1839e-05 - accuracy: 3.1338e-04\n",
      "Epoch 13/50\n",
      " - 3s - loss: 3.2576e-05 - accuracy: 3.1338e-04\n",
      "Epoch 14/50\n",
      " - 3s - loss: 3.0035e-05 - accuracy: 3.1338e-04\n",
      "Epoch 15/50\n",
      " - 3s - loss: 3.2189e-05 - accuracy: 3.1338e-04\n",
      "Epoch 16/50\n",
      " - 3s - loss: 2.8461e-05 - accuracy: 3.1338e-04\n",
      "Epoch 17/50\n",
      " - 3s - loss: 2.6292e-05 - accuracy: 3.1338e-04\n",
      "Epoch 18/50\n",
      " - 3s - loss: 2.8542e-05 - accuracy: 3.1338e-04\n",
      "Epoch 19/50\n",
      " - 3s - loss: 2.5233e-05 - accuracy: 3.1338e-04\n",
      "Epoch 20/50\n",
      " - 3s - loss: 2.5985e-05 - accuracy: 3.1338e-04\n",
      "Epoch 21/50\n",
      " - 3s - loss: 2.3248e-05 - accuracy: 3.1338e-04\n",
      "Epoch 22/50\n",
      " - 3s - loss: 2.4233e-05 - accuracy: 3.1338e-04\n",
      "Epoch 23/50\n",
      " - 3s - loss: 2.2632e-05 - accuracy: 3.1338e-04\n",
      "Epoch 24/50\n",
      " - 2s - loss: 2.1926e-05 - accuracy: 3.1338e-04\n",
      "Epoch 25/50\n",
      " - 3s - loss: 2.2001e-05 - accuracy: 3.1338e-04\n",
      "Epoch 26/50\n",
      " - 3s - loss: 2.0459e-05 - accuracy: 3.1338e-04\n",
      "Epoch 27/50\n",
      " - 2s - loss: 1.9794e-05 - accuracy: 3.1338e-04\n",
      "Epoch 28/50\n",
      " - 2s - loss: 2.0291e-05 - accuracy: 3.1338e-04\n",
      "Epoch 29/50\n",
      " - 2s - loss: 1.8864e-05 - accuracy: 3.1338e-04\n",
      "Epoch 30/50\n",
      " - 3s - loss: 1.8774e-05 - accuracy: 3.1338e-04\n",
      "Epoch 31/50\n",
      " - 3s - loss: 1.7082e-05 - accuracy: 3.1338e-04\n",
      "Epoch 32/50\n",
      " - 2s - loss: 1.7292e-05 - accuracy: 3.1338e-04\n",
      "Epoch 33/50\n",
      " - 2s - loss: 1.8010e-05 - accuracy: 3.1338e-04\n",
      "Epoch 34/50\n",
      " - 2s - loss: 1.6715e-05 - accuracy: 3.1338e-04\n",
      "Epoch 35/50\n",
      " - 2s - loss: 1.7149e-05 - accuracy: 3.1338e-04\n",
      "Epoch 36/50\n",
      " - 3s - loss: 1.7873e-05 - accuracy: 3.1338e-04\n",
      "Epoch 37/50\n",
      " - 2s - loss: 1.6516e-05 - accuracy: 3.1338e-04\n",
      "Epoch 38/50\n",
      " - 2s - loss: 1.8155e-05 - accuracy: 3.1338e-04\n",
      "Epoch 39/50\n",
      " - 2s - loss: 1.5276e-05 - accuracy: 3.1338e-04\n",
      "Epoch 40/50\n",
      " - 3s - loss: 1.7175e-05 - accuracy: 3.1338e-04\n",
      "Epoch 41/50\n",
      " - 2s - loss: 1.5339e-05 - accuracy: 3.1338e-04\n",
      "Epoch 42/50\n",
      " - 2s - loss: 1.6516e-05 - accuracy: 3.1338e-04\n",
      "Epoch 43/50\n",
      " - 2s - loss: 1.7988e-05 - accuracy: 3.1338e-04\n",
      "Epoch 44/50\n",
      " - 3s - loss: 1.5781e-05 - accuracy: 3.1338e-04\n",
      "Epoch 45/50\n",
      " - 2s - loss: 1.7141e-05 - accuracy: 3.1338e-04\n",
      "Epoch 46/50\n",
      " - 2s - loss: 1.5094e-05 - accuracy: 3.1338e-04\n",
      "Epoch 47/50\n",
      " - 2s - loss: 1.7034e-05 - accuracy: 3.1338e-04\n",
      "Epoch 48/50\n",
      " - 2s - loss: 1.6158e-05 - accuracy: 3.1338e-04\n",
      "Epoch 49/50\n",
      " - 2s - loss: 1.5875e-05 - accuracy: 3.1338e-04\n",
      "Epoch 50/50\n",
      " - 3s - loss: 1.5927e-05 - accuracy: 3.1338e-04\n",
      "Wall time: 2min 11s\n"
     ]
    },
    {
     "data": {
      "text/plain": [
       "<keras.callbacks.callbacks.History at 0x1f7d37a49c8>"
      ]
     },
     "execution_count": 45,
     "metadata": {},
     "output_type": "execute_result"
    }
   ],
   "source": [
    "%%time\n",
    "# Fit the LSTM network\n",
    "model.fit(trainX, trainY, epochs=200, batch_size=40, verbose=2)"
   ]
  },
  {
   "cell_type": "markdown",
   "metadata": {},
   "source": [
    "Once the model is fit, we can estimate the performance of the model on the train and test datasets."
   ]
  },
  {
   "cell_type": "code",
   "execution_count": 46,
   "metadata": {},
   "outputs": [
    {
     "name": "stdout",
     "output_type": "stream",
     "text": [
      "[1.4516912360550827e-05, 0.0003133813734166324]\n",
      "['loss', 'accuracy']\n"
     ]
    }
   ],
   "source": [
    "\n",
    "\n",
    "scores = model.evaluate(trainX, trainY, verbose=0)\n",
    "print(scores)\n",
    "print(model.metrics_names)\n"
   ]
  },
  {
   "cell_type": "code",
   "execution_count": 47,
   "metadata": {},
   "outputs": [],
   "source": [
    "# make predictions\n",
    "trainPredict = model.predict(trainX)\n",
    "testPredict = model.predict(testX)\n"
   ]
  },
  {
   "cell_type": "markdown",
   "metadata": {},
   "source": [
    "***Note that we invert the predictions before calculating error scores \n",
    "to ensure that performance is reported in the same units as the original data (thousands of passengers per month).***"
   ]
  },
  {
   "cell_type": "code",
   "execution_count": 48,
   "metadata": {},
   "outputs": [],
   "source": [
    "# invert predictions\n",
    "trainPredict = scaler.inverse_transform(trainPredict)\n",
    "trainY = scaler.inverse_transform([trainY])\n",
    "testPredict = scaler.inverse_transform(testPredict)\n",
    "testY = scaler.inverse_transform([testY])"
   ]
  },
  {
   "cell_type": "code",
   "execution_count": 49,
   "metadata": {},
   "outputs": [
    {
     "name": "stdout",
     "output_type": "stream",
     "text": [
      "Train Score: 5.01 MSE\n",
      "Test Score: 197.12 MSE\n"
     ]
    }
   ],
   "source": [
    "# calculate root mean squared error\n",
    "trainScore = mean_squared_error(trainY[0], trainPredict[:,0])\n",
    "print('Train Score: %.2f MSE' % (trainScore))\n",
    "testScore = mean_squared_error(testY[0], testPredict[:,0])\n",
    "print('Test Score: %.2f MSE' % (testScore))"
   ]
  },
  {
   "cell_type": "code",
   "execution_count": 50,
   "metadata": {},
   "outputs": [],
   "source": [
    "## Train Score: 23.70 RMSE Test Score: 58.87 RMSE (LSTM - 4) Lookback-3\n",
    "## Train Score: 13.53 RMSE Test Score: 37.48 RMSE (LSTM - 64) Lookback-12"
   ]
  },
  {
   "cell_type": "markdown",
   "metadata": {},
   "source": [
    "Because of how the dataset was prepared, we must shift the predictions so that they align on the x-axis with the original dataset. Once prepared, the data is plotted, showing the original dataset in blue, the predictions for the training dataset in green, and the predictions on the unseen test dataset in red."
   ]
  },
  {
   "cell_type": "code",
   "execution_count": 51,
   "metadata": {},
   "outputs": [],
   "source": [
    "datedate = pandas.read_excel('TATAMOTORS.xlsx', usecols=[0], skipfooter=3)\n",
    "\n",
    "# plot baseline and predictions\n",
    "plt.figure(figsize=(20,10))\n",
    "plt.grid()\n",
    "plt.plot(datedate.tail(1547),testPredict, label=' predicted', color='red')\n",
    "plt.plot(datedate.tail(1547),testY[0], label=' actual value', color='blue')\n",
    "\n",
    "plt.xlabel('Date', fontsize=25)\n",
    "plt.ylabel('Price in USD', fontsize=25)\n",
    "plt.xticks(fontsize=17)\n",
    "plt.yticks(fontsize=17)\n",
    "\n",
    "plt.legend()\n",
    "\n",
    "plt.show()"
   ]
  },
  {
   "cell_type": "code",
   "execution_count": null,
   "metadata": {},
   "outputs": [],
   "source": []
  },
  {
   "cell_type": "code",
   "execution_count": null,
   "metadata": {},
   "outputs": [],
   "source": []
  },
  {
   "cell_type": "code",
   "execution_count": null,
   "metadata": {},
   "outputs": [],
   "source": []
  },
  {
   "cell_type": "code",
   "execution_count": null,
   "metadata": {},
   "outputs": [],
   "source": []
  }
 ],
 "metadata": {
  "kernelspec": {
   "display_name": "Python 3",
   "language": "python",
   "name": "python3"
  },
  "language_info": {
   "codemirror_mode": {
    "name": "ipython",
    "version": 3
   },
   "file_extension": ".py",
   "mimetype": "text/x-python",
   "name": "python",
   "nbconvert_exporter": "python",
   "pygments_lexer": "ipython3",
   "version": "3.7.4"
  }
 },
 "nbformat": 4,
 "nbformat_minor": 2
}
