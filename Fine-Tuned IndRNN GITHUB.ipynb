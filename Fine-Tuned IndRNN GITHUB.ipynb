{
 "cells": [
  {
   "cell_type": "markdown",
   "metadata": {},
   "source": [
    "## STOCK MARKET - Window method IndRNN"
   ]
  },
  {
   "cell_type": "markdown",
   "metadata": {},
   "source": [
    "### Problem Description\n",
    "The problem we are going to look at in this post is the stock market prices prediction problem.\n",
    "\n",
    "This is a problem where, given a day, month, and a year, the task is to predict the price of next days stocks . The data ranges from 1996 to 2010,  with 4836 observations."
   ]
  },
  {
   "cell_type": "markdown",
   "metadata": {},
   "source": [
    "** Name of the Dataset **  “TATAMOTORS.xlsx'“"
   ]
  },
  {
   "cell_type": "code",
   "execution_count": 111,
   "metadata": {},
   "outputs": [],
   "source": [
    "from __future__ import print_function\n",
    "import os\n",
    "import numpy\n",
    "import pandas\n",
    "import math\n",
    "\n",
    "import matplotlib.pyplot as plt\n",
    "%matplotlib inline\n",
    "from sklearn.preprocessing import MinMaxScaler\n",
    "from sklearn.metrics import mean_squared_error\n",
    "from keras.models import Sequential\n",
    "from keras.layers import Dense\n",
    "from keras.callbacks import ModelCheckpoint"
   ]
  },
  {
   "cell_type": "code",
   "execution_count": 112,
   "metadata": {},
   "outputs": [],
   "source": [
    "from ind_rnn_M import IndRNNCell, RNN"
   ]
  },
  {
   "cell_type": "code",
   "execution_count": 113,
   "metadata": {},
   "outputs": [
    {
     "data": {
      "text/html": [
       "<div>\n",
       "<style scoped>\n",
       "    .dataframe tbody tr th:only-of-type {\n",
       "        vertical-align: middle;\n",
       "    }\n",
       "\n",
       "    .dataframe tbody tr th {\n",
       "        vertical-align: top;\n",
       "    }\n",
       "\n",
       "    .dataframe thead th {\n",
       "        text-align: right;\n",
       "    }\n",
       "</style>\n",
       "<table border=\"1\" class=\"dataframe\">\n",
       "  <thead>\n",
       "    <tr style=\"text-align: right;\">\n",
       "      <th></th>\n",
       "      <th>Date</th>\n",
       "      <th>Close</th>\n",
       "    </tr>\n",
       "  </thead>\n",
       "  <tbody>\n",
       "    <tr>\n",
       "      <th>0</th>\n",
       "      <td>1996-03-06</td>\n",
       "      <td>93.709801</td>\n",
       "    </tr>\n",
       "    <tr>\n",
       "      <th>1</th>\n",
       "      <td>1996-03-07</td>\n",
       "      <td>94.188904</td>\n",
       "    </tr>\n",
       "    <tr>\n",
       "      <th>2</th>\n",
       "      <td>1996-03-08</td>\n",
       "      <td>95.626099</td>\n",
       "    </tr>\n",
       "    <tr>\n",
       "      <th>3</th>\n",
       "      <td>1996-03-09</td>\n",
       "      <td>96.967598</td>\n",
       "    </tr>\n",
       "    <tr>\n",
       "      <th>4</th>\n",
       "      <td>1996-03-10</td>\n",
       "      <td>100.033997</td>\n",
       "    </tr>\n",
       "  </tbody>\n",
       "</table>\n",
       "</div>"
      ],
      "text/plain": [
       "        Date       Close\n",
       "0 1996-03-06   93.709801\n",
       "1 1996-03-07   94.188904\n",
       "2 1996-03-08   95.626099\n",
       "3 1996-03-09   96.967598\n",
       "4 1996-03-10  100.033997"
      ]
     },
     "execution_count": 113,
     "metadata": {},
     "output_type": "execute_result"
    }
   ],
   "source": [
    "dataset = pandas.read_excel('TATAMOTORS.xlsx', usecols=[0,4], skipfooter=3)\n",
    "dataset.fillna(method='ffill', inplace=True)\n",
    "\n",
    "dataset.head()"
   ]
  },
  {
   "cell_type": "code",
   "execution_count": 114,
   "metadata": {},
   "outputs": [
    {
     "data": {
      "image/png": "[encoded data removed]",
      "text/plain": [
       "<Figure size 432x288 with 1 Axes>"
      ]
     },
     "metadata": {
      "needs_background": "light"
     },
     "output_type": "display_data"
    }
   ],
   "source": [
    "plt.plot(dataset['Close'])\n",
    "plt.show()"
   ]
  },
  {
   "cell_type": "markdown",
   "metadata": {},
   "source": [
    "#### Normally, it is a good idea to investigate various data preparation techniques to rescale the data and to make it stationary."
   ]
  },
  {
   "cell_type": "markdown",
   "metadata": {},
   "source": [
    "Before we do anything, it is a good idea to fix the random number seed to ensure our results are reproducible"
   ]
  },
  {
   "cell_type": "code",
   "execution_count": 115,
   "metadata": {},
   "outputs": [],
   "source": [
    "# fix random seed for reproducibility\n",
    "numpy.random.seed(7)"
   ]
  },
  {
   "cell_type": "markdown",
   "metadata": {},
   "source": []
  },
  {
   "cell_type": "code",
   "execution_count": 116,
   "metadata": {},
   "outputs": [
    {
     "data": {
      "text/html": [
       "<div>\n",
       "<style scoped>\n",
       "    .dataframe tbody tr th:only-of-type {\n",
       "        vertical-align: middle;\n",
       "    }\n",
       "\n",
       "    .dataframe tbody tr th {\n",
       "        vertical-align: top;\n",
       "    }\n",
       "\n",
       "    .dataframe thead th {\n",
       "        text-align: right;\n",
       "    }\n",
       "</style>\n",
       "<table border=\"1\" class=\"dataframe\">\n",
       "  <thead>\n",
       "    <tr style=\"text-align: right;\">\n",
       "      <th></th>\n",
       "      <th>Close</th>\n",
       "    </tr>\n",
       "  </thead>\n",
       "  <tbody>\n",
       "    <tr>\n",
       "      <th>0</th>\n",
       "      <td>93.709801</td>\n",
       "    </tr>\n",
       "    <tr>\n",
       "      <th>1</th>\n",
       "      <td>94.188904</td>\n",
       "    </tr>\n",
       "    <tr>\n",
       "      <th>2</th>\n",
       "      <td>95.626099</td>\n",
       "    </tr>\n",
       "    <tr>\n",
       "      <th>3</th>\n",
       "      <td>96.967598</td>\n",
       "    </tr>\n",
       "    <tr>\n",
       "      <th>4</th>\n",
       "      <td>100.033997</td>\n",
       "    </tr>\n",
       "  </tbody>\n",
       "</table>\n",
       "</div>"
      ],
      "text/plain": [
       "        Close\n",
       "0   93.709801\n",
       "1   94.188904\n",
       "2   95.626099\n",
       "3   96.967598\n",
       "4  100.033997"
      ]
     },
     "execution_count": 116,
     "metadata": {},
     "output_type": "execute_result"
    }
   ],
   "source": [
    "# load the dataset sales-of-soaps.csv\n",
    "dataframe = pandas.read_excel('TATAMOTORS.xlsx', usecols=[4])\n",
    "#dataframe = pandas.read_csv('international-airline-passengers.csv', usecols=[1], engine='python')\n",
    "dataframe.fillna(method='ffill', inplace=True)\n",
    "\n",
    "dataframe.head()\n",
    "#print(type(dataframe.dtypes))"
   ]
  },
  {
   "cell_type": "markdown",
   "metadata": {},
   "source": [
    "- ** extract the NumPy array from the dataframe** <br>\n",
    "- Then **convert the integer values to floating point values**, which are more suitable for modeling with a neural network."
   ]
  },
  {
   "cell_type": "code",
   "execution_count": 117,
   "metadata": {},
   "outputs": [],
   "source": [
    "dataset = dataframe.values      ##   convert the data-frame to its Numpy-array\n",
    "dataset = dataset.astype('float32')"
   ]
  },
  {
   "cell_type": "code",
   "execution_count": 118,
   "metadata": {},
   "outputs": [],
   "source": [
    "# normalize the dataset\n",
    "scaler = MinMaxScaler(feature_range=(0, 1))\n",
    "dataset = scaler.fit_transform(dataset)"
   ]
  },
  {
   "cell_type": "code",
   "execution_count": 119,
   "metadata": {},
   "outputs": [
    {
     "name": "stdout",
     "output_type": "stream",
     "text": [
      "<class 'pandas.core.series.Series'>\n"
     ]
    }
   ],
   "source": [
    "print(type(dataframe.dtypes))"
   ]
  },
  {
   "cell_type": "markdown",
   "metadata": {},
   "source": [
    "Doing a Train-Test Split<br>\n",
    "Train: 67%<br>\n",
    "Test:  33%"
   ]
  },
  {
   "cell_type": "code",
   "execution_count": 120,
   "metadata": {},
   "outputs": [
    {
     "name": "stdout",
     "output_type": "stream",
     "text": [
      "3240 1596\n"
     ]
    }
   ],
   "source": [
    "# split into train and test sets\n",
    "train_size = int(len(dataset) * 0.67)\n",
    "test_size = len(dataset) - train_size\n",
    "\n",
    "train, test = dataset[0:train_size,:], dataset[train_size:len(dataset),:]\n",
    "print(len(train), len(test))"
   ]
  },
  {
   "cell_type": "markdown",
   "metadata": {},
   "source": [
    "#### Cross Validation\n",
    "\n",
    "##### When using time series data, the sequence of values is important. <br>\n",
    "\n",
    "Now we can define a function to create a new dataset.\n",
    "\n",
    "The function takes two arguments: the ***dataset***, which is a NumPy array that we want to convert into a dataset, and the ***look_back***, which is the number of previous time steps to use as input variables to predict the next time period — in this case defaulted to 40.\n",
    "\n",
    "This default will create a dataset where X is the prices of stocks  for 40 days and Y is the prices at the next 10 days.\n",
    "\n",
    "It can be configured, and we will be constructing a differently shaped dataset in the next section."
   ]
  },
  {
   "cell_type": "code",
   "execution_count": 121,
   "metadata": {},
   "outputs": [],
   "source": [
    "forward_days=10\n",
    "# convert an array of values into a dataset matrix\n",
    "def create_dataset(dataset, look_back=40):\n",
    "\tdataX, dataY = [], []\n",
    "\tfor i in range(len(dataset)-look_back-forward_days+1):\n",
    "\t\ta = dataset[i:(i+look_back), 0]\n",
    "\t\tdataX.append(a)\n",
    "\t\tdataY.append(dataset[i + look_back, 0])\n",
    "\treturn numpy.array(dataX), numpy.array(dataY)"
   ]
  },
  {
   "cell_type": "markdown",
   "metadata": {},
   "source": [
    "\n",
    "Let’s use this function to prepare the train and test datasets for modeling."
   ]
  },
  {
   "cell_type": "code",
   "execution_count": 122,
   "metadata": {},
   "outputs": [],
   "source": [
    "# reshape into X=t and Y=t+1\n",
    "look_back = 40\n",
    "\n",
    "trainX, trainY = create_dataset(train, look_back)\n",
    "testX, testY = create_dataset(test, look_back)"
   ]
  },
  {
   "cell_type": "markdown",
   "metadata": {},
   "source": []
  },
  {
   "cell_type": "code",
   "execution_count": 123,
   "metadata": {},
   "outputs": [],
   "source": [
    "# reshape input to be [samples, time steps, features]\n",
    "\n",
    "trainX = numpy.reshape(trainX, (trainX.shape[0], trainX.shape[1], 1))\n",
    "testX = numpy.reshape(testX, (testX.shape[0], testX.shape[1], 1))"
   ]
  },
  {
   "cell_type": "code",
   "execution_count": 124,
   "metadata": {},
   "outputs": [
    {
     "data": {
      "text/plain": [
       "(3191, 40, 1)"
      ]
     },
     "execution_count": 124,
     "metadata": {},
     "output_type": "execute_result"
    }
   ],
   "source": [
    "trainX.shape"
   ]
  },
  {
   "cell_type": "code",
   "execution_count": 125,
   "metadata": {},
   "outputs": [],
   "source": [
    "batch_size = 40\n",
    "num_classes = 10\n",
    "epochs = 10     # 200  \n",
    "hidden_units = 64  # 128\n",
    "\n",
    "learning_rate = 1e-3"
   ]
  },
  {
   "cell_type": "code",
   "execution_count": 95,
   "metadata": {},
   "outputs": [],
   "source": [
    "#from keras.models import load_model\n",
    "\n",
    "# cells = [IndRNNCell(hidden_units), IndRNNCell(hidden_units)]\n",
    "cells = [IndRNNCell(4), IndRNNCell(4)]\n",
    "\n",
    "from ind_rnn_M import IndRNNCell, RNN\n",
    "from ind_rnn_M import IndRNN\n",
    "#model = load_model('my_model.h5',  custom_objects={'IndRNNCell': IndRNNCell, 'IndRNN': IndRNN})"
   ]
  },
  {
   "cell_type": "markdown",
   "metadata": {},
   "source": [
    "\n",
    "\n",
    "\n",
    "## Add IndRNN Layers (from file indrnn_m.py where the default activation function is None), then, add the PReLU activation function layer as an additional layer between every 2 IndRNN layers"
   ]
  },
  {
   "cell_type": "code",
   "execution_count": 39,
   "metadata": {},
   "outputs": [
    {
     "name": "stdout",
     "output_type": "stream",
     "text": [
      "Evaluate IRNN...\n"
     ]
    },
    {
     "name": "stderr",
     "output_type": "stream",
     "text": [
      "C:\\Users\\1864012\\Documents\\THESIS CODES NEW\\modified IndRNN\\ind_rnn.py:145: UserWarning: IndRNNCell: Number of timesteps could not be determined. \n",
      "Defaulting to max clipping range of 1.0. \n",
      "If this model was trained using a specific timestep during training, inference may be wrong due to this default setting.\n",
      "Please ensure that you use the same number of timesteps during training and evaluation\n",
      "  warnings.warn(\"IndRNNCell: Number of timesteps could not be determined. \\n\"\n"
     ]
    },
    {
     "data": {
      "text/plain": [
       "'\\nReturn sequences\\nReturn sequences refer to return the hidden state a<t>. By default, the return_sequences is set to False in Keras RNN layers, and this means the RNN layer will only return the last hidden state output a<T>. The last hidden state output captures an abstract representation of the input sequence. In some case, it is all we need, such as a classification or regression model where the RNN is followed by the Dense layer(s) to generate logits for news topic classification or score for sentiment analysis, or in a generative model to produce the softmax probabilities for the next possible char.\\n\\nIn other cases, we need the full sequence as the output. Setting return_sequences to True is necessary.\\n'"
      ]
     },
     "execution_count": 39,
     "metadata": {},
     "output_type": "execute_result"
    }
   ],
   "source": [
    "\n",
    "print('Evaluate IRNN...')\n",
    "from ind_rnn_M import IndRNNCell, RNN\n",
    "from ind_rnn_M import IndRNN\n",
    "\n",
    "# create the IndRNN network\n",
    "from keras.layers import Dropout, Conv2D, MaxPooling2D, Conv1D, MaxPooling1D, Flatten, PReLU\n",
    "\n",
    "model = Sequential()\n",
    "model.add(RNN(cells, input_shape=(look_back, 1), return_sequences=True))\n",
    "model.add(PReLU(alpha_initializer='zeros'))\n",
    "model.add(IndRNN(32, recurrent_clip_min=-1, recurrent_clip_max=-1, dropout=0.0, recurrent_dropout=0.0, return_sequences=True))\n",
    "model.add(PReLU(alpha_initializer='ones'))\n",
    "model.add(RNN(cells, return_sequences=True))\n",
    "model.add(PReLU(alpha_initializer='ones'))\n",
    "\n",
    "model.add(IndRNN(32, recurrent_clip_min=-1, recurrent_clip_max=-1, dropout=0.0, recurrent_dropout=0.0, return_sequences=True))\n",
    "model.add(RNN(cells, return_sequences=False))\n",
    "model.add(PReLU(alpha_initializer='zeros'))\n",
    "#model.add(Flatten())\n",
    "model.add(Dense(1))\n",
    "\n",
    "from keras import optimizers\n",
    "\n",
    "adam = optimizers.Adam(lr=0.001, decay=1e-6)\n",
    "\n",
    "\n",
    "model.compile(loss='mean_squared_error', optimizer= adam, metrics=['accuracy'])\n",
    "\n",
    "\n",
    "\n",
    "'''\n",
    "Return sequences\n",
    "Return sequences refer to return the hidden state a<t>. By default, the return_sequences is set to False in Keras RNN layers, and this means the RNN layer will only return the last hidden state output a<T>. The last hidden state output captures an abstract representation of the input sequence. In some case, it is all we need, such as a classification or regression model where the RNN is followed by the Dense layer(s) to generate logits for news topic classification or score for sentiment analysis, or in a generative model to produce the softmax probabilities for the next possible char.\n",
    "\n",
    "In other cases, we need the full sequence as the output. Setting return_sequences to True is necessary.\n",
    "'''"
   ]
  },
  {
   "cell_type": "code",
   "execution_count": 126,
   "metadata": {},
   "outputs": [
    {
     "name": "stdout",
     "output_type": "stream",
     "text": [
      "Model: \"sequential_5\"\n",
      "_________________________________________________________________\n",
      "Layer (type)                 Output Shape              Param #   \n",
      "=================================================================\n",
      "rnn_10 (RNN)                 (None, 40, 4)             356       \n",
      "_________________________________________________________________\n",
      "p_re_lu_10 (PReLU)           (None, 40, 4)             160       \n",
      "_________________________________________________________________\n",
      "ind_rnn_7 (IndRNN)           (None, 40, 32)            192       \n",
      "_________________________________________________________________\n",
      "p_re_lu_11 (PReLU)           (None, 40, 32)            1280      \n",
      "_________________________________________________________________\n",
      "rnn_11 (RNN)                 (None, 40, 4)             356       \n",
      "_________________________________________________________________\n",
      "p_re_lu_12 (PReLU)           (None, 40, 4)             160       \n",
      "_________________________________________________________________\n",
      "ind_rnn_8 (IndRNN)           (None, 40, 32)            192       \n",
      "_________________________________________________________________\n",
      "rnn_12 (RNN)                 (None, 4)                 356       \n",
      "_________________________________________________________________\n",
      "p_re_lu_13 (PReLU)           (None, 4)                 4         \n",
      "_________________________________________________________________\n",
      "dense_4 (Dense)              (None, 1)                 5         \n",
      "=================================================================\n",
      "Total params: 2,349\n",
      "Trainable params: 2,349\n",
      "Non-trainable params: 0\n",
      "_________________________________________________________________\n"
     ]
    }
   ],
   "source": [
    "model.summary()\n",
    "#model.load_weights('my_model_weights.h5')\n",
    "\n"
   ]
  },
  {
   "cell_type": "code",
   "execution_count": 127,
   "metadata": {},
   "outputs": [],
   "source": [
    "from keras.utils.vis_utils import plot_model\n",
    "#plot_model(model, to_file='model_plot1.png')"
   ]
  },
  {
   "cell_type": "code",
   "execution_count": 129,
   "metadata": {},
   "outputs": [],
   "source": [
    "#!pip install GraphViz \n",
    "import os\n",
    "os.environ[\"PATH\"] += os.pathsep + 'C:/ProgramData/Anaconda3/Library/bin/graphviz/'\n",
    "from keras.utils.vis_utils import plot_model\n",
    "#plot_model(model, to_file='model_plot2.png', show_shapes=True, show_layer_names=True)"
   ]
  },
  {
   "cell_type": "code",
   "execution_count": 130,
   "metadata": {},
   "outputs": [
    {
     "name": "stdout",
     "output_type": "stream",
     "text": [
      "Epoch 1/50\n",
      " - 3s - loss: 1.5237e-05 - accuracy: 3.1338e-04\n",
      "Epoch 2/50\n",
      " - 3s - loss: 1.8711e-05 - accuracy: 3.1338e-04\n",
      "Epoch 3/50\n",
      " - 3s - loss: 1.6807e-05 - accuracy: 3.1338e-04\n",
      "Epoch 4/50\n",
      " - 3s - loss: 1.4439e-05 - accuracy: 3.1338e-04\n",
      "Epoch 5/50\n",
      " - 3s - loss: 1.5958e-05 - accuracy: 3.1338e-04\n",
      "Epoch 6/50\n",
      " - 3s - loss: 1.5528e-05 - accuracy: 3.1338e-04\n",
      "Epoch 7/50\n",
      " - 3s - loss: 1.7500e-05 - accuracy: 3.1338e-04\n",
      "Epoch 8/50\n",
      " - 3s - loss: 1.5925e-05 - accuracy: 3.1338e-04\n",
      "Epoch 9/50\n",
      " - 3s - loss: 1.6364e-05 - accuracy: 3.1338e-04\n",
      "Epoch 10/50\n",
      " - 3s - loss: 1.4983e-05 - accuracy: 3.1338e-04\n",
      "Epoch 11/50\n",
      " - 3s - loss: 1.5567e-05 - accuracy: 3.1338e-04\n",
      "Epoch 12/50\n",
      " - 3s - loss: 1.5445e-05 - accuracy: 3.1338e-04\n",
      "Epoch 13/50\n",
      " - 3s - loss: 1.8456e-05 - accuracy: 3.1338e-04\n",
      "Epoch 14/50\n",
      " - 3s - loss: 1.5668e-05 - accuracy: 3.1338e-04\n",
      "Epoch 15/50\n",
      " - 3s - loss: 1.7135e-05 - accuracy: 3.1338e-04\n",
      "Epoch 16/50\n",
      " - 3s - loss: 1.6337e-05 - accuracy: 3.1338e-04\n",
      "Epoch 17/50\n",
      " - 3s - loss: 1.5434e-05 - accuracy: 3.1338e-04\n",
      "Epoch 18/50\n",
      " - 4s - loss: 1.7138e-05 - accuracy: 3.1338e-04\n",
      "Epoch 19/50\n",
      " - 3s - loss: 1.5676e-05 - accuracy: 3.1338e-04\n",
      "Epoch 20/50\n",
      " - 3s - loss: 1.7505e-05 - accuracy: 3.1338e-04\n",
      "Epoch 21/50\n",
      " - 3s - loss: 1.7146e-05 - accuracy: 3.1338e-04\n",
      "Epoch 22/50\n",
      " - 3s - loss: 2.2850e-05 - accuracy: 3.1338e-04\n",
      "Epoch 23/50\n",
      " - 3s - loss: 1.7910e-05 - accuracy: 3.1338e-04\n",
      "Epoch 24/50\n",
      " - 3s - loss: 1.8805e-05 - accuracy: 3.1338e-04\n",
      "Epoch 25/50\n",
      " - 3s - loss: 1.8337e-05 - accuracy: 3.1338e-04\n",
      "Epoch 26/50\n",
      " - 3s - loss: 1.6666e-05 - accuracy: 3.1338e-04\n",
      "Epoch 27/50\n",
      " - 3s - loss: 1.5430e-05 - accuracy: 3.1338e-04\n",
      "Epoch 28/50\n",
      " - 3s - loss: 1.7567e-05 - accuracy: 3.1338e-04\n",
      "Epoch 29/50\n",
      " - 3s - loss: 1.5323e-05 - accuracy: 3.1338e-04\n",
      "Epoch 30/50\n",
      " - 3s - loss: 1.5538e-05 - accuracy: 3.1338e-04\n",
      "Epoch 31/50\n",
      " - 3s - loss: 1.4950e-05 - accuracy: 3.1338e-04\n",
      "Epoch 32/50\n",
      " - 3s - loss: 1.5474e-05 - accuracy: 3.1338e-04\n",
      "Epoch 33/50\n",
      " - 3s - loss: 1.8169e-05 - accuracy: 3.1338e-04\n",
      "Epoch 34/50\n",
      " - 3s - loss: 1.5305e-05 - accuracy: 3.1338e-04\n",
      "Epoch 35/50\n",
      " - 3s - loss: 1.5661e-05 - accuracy: 3.1338e-04\n",
      "Epoch 36/50\n",
      " - 3s - loss: 1.7184e-05 - accuracy: 3.1338e-04\n",
      "Epoch 37/50\n",
      " - 3s - loss: 1.5993e-05 - accuracy: 3.1338e-04\n",
      "Epoch 38/50\n",
      " - 3s - loss: 1.7659e-05 - accuracy: 3.1338e-04\n",
      "Epoch 39/50\n",
      " - 3s - loss: 1.4458e-05 - accuracy: 3.1338e-04\n",
      "Epoch 40/50\n",
      " - 3s - loss: 1.6874e-05 - accuracy: 3.1338e-04\n",
      "Epoch 41/50\n",
      " - 3s - loss: 1.5560e-05 - accuracy: 3.1338e-04\n",
      "Epoch 42/50\n",
      " - 3s - loss: 1.5848e-05 - accuracy: 3.1338e-04\n",
      "Epoch 43/50\n",
      " - 3s - loss: 1.7485e-05 - accuracy: 3.1338e-04\n",
      "Epoch 44/50\n",
      " - 3s - loss: 1.5454e-05 - accuracy: 3.1338e-04\n",
      "Epoch 45/50\n",
      " - 3s - loss: 1.6743e-05 - accuracy: 3.1338e-04\n",
      "Epoch 46/50\n",
      " - 3s - loss: 1.5246e-05 - accuracy: 3.1338e-04\n",
      "Epoch 47/50\n",
      " - 3s - loss: 1.6231e-05 - accuracy: 3.1338e-04\n",
      "Epoch 48/50\n",
      " - 3s - loss: 1.7017e-05 - accuracy: 3.1338e-04\n",
      "Epoch 49/50\n",
      " - 3s - loss: 1.6013e-05 - accuracy: 3.1338e-04\n",
      "Epoch 50/50\n",
      " - 3s - loss: 1.5982e-05 - accuracy: 3.1338e-04\n",
      "Wall time: 2min 21s\n"
     ]
    },
    {
     "data": {
      "text/plain": [
       "<keras.callbacks.callbacks.History at 0x1c673d9cc48>"
      ]
     },
     "execution_count": 130,
     "metadata": {},
     "output_type": "execute_result"
    }
   ],
   "source": [
    "%%time\n",
    "# Fit the IndRNN network\n",
    "model.fit(trainX, trainY, epochs=200, batch_size=40, verbose=2)"
   ]
  },
  {
   "cell_type": "markdown",
   "metadata": {},
   "source": [
    "Once the model is fit, we can estimate the performance of the model on the train and test datasets."
   ]
  },
  {
   "cell_type": "code",
   "execution_count": 131,
   "metadata": {},
   "outputs": [],
   "source": [
    "scores = model.evaluate(trainX, trainY, verbose=0)\n",
    "#model.save_weights('WEIGHT.h5')\n"
   ]
  },
  {
   "cell_type": "code",
   "execution_count": 132,
   "metadata": {},
   "outputs": [
    {
     "name": "stdout",
     "output_type": "stream",
     "text": [
      "[1.3462093850622165e-05, 0.0003133813734166324]\n",
      "['loss', 'accuracy']\n"
     ]
    }
   ],
   "source": [
    "from keras.models import load_model\n",
    "\n",
    "print(scores)\n",
    "print(model.metrics_names)"
   ]
  },
  {
   "cell_type": "code",
   "execution_count": 133,
   "metadata": {},
   "outputs": [],
   "source": [
    "# make predictions\n",
    "trainPredict = model.predict(trainX)\n",
    "testPredict = model.predict(testX)"
   ]
  },
  {
   "cell_type": "markdown",
   "metadata": {},
   "source": [
    "***Note that we invert the predictions before calculating error scores \n",
    "to ensure that performance is reported in the same units as the original data (stock prices).***"
   ]
  },
  {
   "cell_type": "code",
   "execution_count": 134,
   "metadata": {},
   "outputs": [],
   "source": [
    "# invert predictions\n",
    "trainPredict = scaler.inverse_transform(trainPredict)\n",
    "trainY = scaler.inverse_transform([trainY])\n",
    "testPredict = scaler.inverse_transform(testPredict)\n",
    "testY = scaler.inverse_transform([testY])"
   ]
  },
  {
   "cell_type": "code",
   "execution_count": 135,
   "metadata": {},
   "outputs": [
    {
     "name": "stdout",
     "output_type": "stream",
     "text": [
      "Train Score: 4.65 MSE\n",
      "Test Score: 44.16 MSE\n"
     ]
    }
   ],
   "source": [
    "# calculate root mean squared error\n",
    "trainScore = mean_squared_error(trainY[0], trainPredict[:,0])\n",
    "print('Train Score: %.2f MSE' % (trainScore))\n",
    "testScore = mean_squared_error(testY[0], testPredict[:,0])\n",
    "print('Test Score: %.2f MSE' % (testScore))"
   ]
  },
  {
   "cell_type": "code",
   "execution_count": null,
   "metadata": {},
   "outputs": [],
   "source": []
  },
  {
   "cell_type": "markdown",
   "metadata": {},
   "source": [
    "Because of how the dataset was prepared, we must shift the predictions so that they align on the x-axis with the original dataset. Once prepared, the data is plotted, showing the original dataset in blue, the predictions for the training dataset in green, and the predictions on the unseen test dataset in black."
   ]
  },
  {
   "cell_type": "code",
   "execution_count": 138,
   "metadata": {},
   "outputs": [
    {
     "ename": "NameError",
     "evalue": "name 'trainPredictPlot' is not defined",
     "output_type": "error",
     "traceback": [
      "\u001b[1;31m---------------------------------------------------------------------------\u001b[0m",
      "\u001b[1;31mNameError\u001b[0m                                 Traceback (most recent call last)",
      "\u001b[1;32m<ipython-input-138-eea4e561166e>\u001b[0m in \u001b[0;36m<module>\u001b[1;34m\u001b[0m\n\u001b[0;32m      1\u001b[0m \u001b[1;31m# plot baseline and predictions\u001b[0m\u001b[1;33m\u001b[0m\u001b[1;33m\u001b[0m\u001b[1;33m\u001b[0m\u001b[0m\n\u001b[0;32m      2\u001b[0m \u001b[0mplt\u001b[0m\u001b[1;33m.\u001b[0m\u001b[0mplot\u001b[0m\u001b[1;33m(\u001b[0m\u001b[0mscaler\u001b[0m\u001b[1;33m.\u001b[0m\u001b[0minverse_transform\u001b[0m\u001b[1;33m(\u001b[0m\u001b[0mdataset\u001b[0m\u001b[1;33m)\u001b[0m\u001b[1;33m)\u001b[0m\u001b[1;33m\u001b[0m\u001b[1;33m\u001b[0m\u001b[0m\n\u001b[1;32m----> 3\u001b[1;33m \u001b[0mplt\u001b[0m\u001b[1;33m.\u001b[0m\u001b[0mplot\u001b[0m\u001b[1;33m(\u001b[0m\u001b[0mtrainPredictPlot\u001b[0m\u001b[1;33m)\u001b[0m\u001b[1;33m\u001b[0m\u001b[1;33m\u001b[0m\u001b[0m\n\u001b[0m\u001b[0;32m      4\u001b[0m \u001b[0mplt\u001b[0m\u001b[1;33m.\u001b[0m\u001b[0mplot\u001b[0m\u001b[1;33m(\u001b[0m\u001b[0mtestPredictPlot\u001b[0m\u001b[1;33m,\u001b[0m \u001b[0mcolor\u001b[0m \u001b[1;33m=\u001b[0m \u001b[1;34m'black'\u001b[0m\u001b[1;33m)\u001b[0m\u001b[1;33m\u001b[0m\u001b[1;33m\u001b[0m\u001b[0m\n\u001b[0;32m      5\u001b[0m \u001b[0mplt\u001b[0m\u001b[1;33m.\u001b[0m\u001b[0mshow\u001b[0m\u001b[1;33m(\u001b[0m\u001b[1;33m)\u001b[0m\u001b[1;33m\u001b[0m\u001b[1;33m\u001b[0m\u001b[0m\n",
      "\u001b[1;31mNameError\u001b[0m: name 'trainPredictPlot' is not defined"
     ]
    },
    {
     "data": {
      "image/png": "[encoded data removed]",
      "text/plain": [
       "<Figure size 432x288 with 1 Axes>"
      ]
     },
     "metadata": {
      "needs_background": "light"
     },
     "output_type": "display_data"
    }
   ],
   "source": [
    "datedate = pandas.read_excel('TATAMOTORS.xlsx', usecols=[0], skipfooter=3)\n",
    "\n",
    "# plot baseline and predictions\n",
    "plt.figure(figsize=(20,10))\n",
    "plt.grid()\n",
    "plt.plot(datedate.tail(1547),testPredict, label='Predicted Value', color='red')\n",
    "plt.plot(datedate.tail(1547),testY[0], label='Real Value', color='blue')\n",
    "plt.xlabel('Date', fontsize=25)\n",
    "plt.ylabel('Price in USD', fontsize=25)\n",
    "plt.xticks(fontsize=17)\n",
    "plt.yticks(fontsize=17)\n",
    "plt.legend()\n",
    "\n",
    "plt.show()"
   ]
  },
  {
   "cell_type": "code",
   "execution_count": null,
   "metadata": {},
   "outputs": [],
   "source": []
  },
  {
   "cell_type": "code",
   "execution_count": null,
   "metadata": {},
   "outputs": [],
   "source": [
    "#Epochs = 200"
   ]
  },
  {
   "cell_type": "code",
   "execution_count": null,
   "metadata": {},
   "outputs": [],
   "source": []
  },
  {
   "cell_type": "code",
   "execution_count": null,
   "metadata": {},
   "outputs": [],
   "source": []
  },
  {
   "cell_type": "code",
   "execution_count": null,
   "metadata": {},
   "outputs": [],
   "source": []
  },
  {
   "cell_type": "code",
   "execution_count": null,
   "metadata": {},
   "outputs": [],
   "source": []
  },
  {
   "cell_type": "code",
   "execution_count": null,
   "metadata": {},
   "outputs": [],
   "source": []
  },
  {
   "cell_type": "code",
   "execution_count": null,
   "metadata": {},
   "outputs": [],
   "source": []
  },
  {
   "cell_type": "code",
   "execution_count": null,
   "metadata": {},
   "outputs": [],
   "source": []
  },
  {
   "cell_type": "code",
   "execution_count": null,
   "metadata": {},
   "outputs": [],
   "source": []
  },
  {
   "cell_type": "code",
   "execution_count": null,
   "metadata": {},
   "outputs": [],
   "source": []
  }
 ],
 "metadata": {
  "kernelspec": {
   "display_name": "Python 3",
   "language": "python",
   "name": "python3"
  },
  "language_info": {
   "codemirror_mode": {
    "name": "ipython",
    "version": 3
   },
   "file_extension": ".py",
   "mimetype": "text/x-python",
   "name": "python",
   "nbconvert_exporter": "python",
   "pygments_lexer": "ipython3",
   "version": "3.7.4"
  }
 },
 "nbformat": 4,
 "nbformat_minor": 2
}
